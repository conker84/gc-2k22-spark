{
  "nbformat": 4,
  "nbformat_minor": 0,
  "metadata": {
    "colab": {
      "name": "neo4j-spark.ipynb",
      "provenance": [],
      "collapsed_sections": [],
      "toc_visible": true,
      "authorship_tag": "ABX9TyOvNAxEmJa19lyB42m4kw0Y",
      "include_colab_link": true
    },
    "kernelspec": {
      "name": "python3",
      "display_name": "Python 3"
    },
    "language_info": {
      "name": "python"
    }
  },
  "cells": [
    {
      "cell_type": "markdown",
      "metadata": {
        "id": "view-in-github",
        "colab_type": "text"
      },
      "source": [
        "<a href=\"https://colab.research.google.com/github/conker84/gc-2k22-spark/blob/main/neo4j_spark.ipynb\" target=\"_parent\"><img src=\"https://colab.research.google.com/assets/colab-badge.svg\" alt=\"Open In Colab\"/></a>"
      ]
    },
    {
      "cell_type": "markdown",
      "source": [
        "# Leveraging Neo4j with Apache Spark"
      ],
      "metadata": {
        "id": "7Nvb-_bYx359"
      }
    },
    {
      "cell_type": "markdown",
      "source": [
        "## Environment Configuration"
      ],
      "metadata": {
        "id": "xlKdn5xMMDKN"
      }
    },
    {
      "cell_type": "code",
      "source": [
        "!apt-get install openjdk-8-jdk-headless -qq > /dev/null"
      ],
      "metadata": {
        "id": "BhZwh-RAz6Bo"
      },
      "execution_count": null,
      "outputs": []
    },
    {
      "cell_type": "code",
      "source": [
        "!wget -q https://dlcdn.apache.org/spark/spark-3.2.1/spark-3.2.1-bin-hadoop3.2.tgz"
      ],
      "metadata": {
        "id": "aTScrPTs0CIQ"
      },
      "execution_count": null,
      "outputs": []
    },
    {
      "cell_type": "code",
      "source": [
        "!tar xf spark-3.2.1-bin-hadoop3.2.tgz"
      ],
      "metadata": {
        "id": "A3gsnSHl0F99"
      },
      "execution_count": null,
      "outputs": []
    },
    {
      "cell_type": "code",
      "source": [
        "!pip install -q findspark"
      ],
      "metadata": {
        "id": "hSBQWKs90vSx"
      },
      "execution_count": null,
      "outputs": []
    },
    {
      "cell_type": "code",
      "source": [
        "import os\n",
        "os.environ[\"JAVA_HOME\"] = \"/usr/lib/jvm/java-8-openjdk-amd64\"\n",
        "os.environ[\"SPARK_HOME\"] = \"/content/spark-3.2.1-bin-hadoop3.2\""
      ],
      "metadata": {
        "id": "tnW0a1Gj080k"
      },
      "execution_count": null,
      "outputs": []
    },
    {
      "cell_type": "code",
      "source": [
        "import findspark\n",
        "findspark.init()"
      ],
      "metadata": {
        "id": "dlUBSezK1DpZ"
      },
      "execution_count": null,
      "outputs": []
    },
    {
      "cell_type": "markdown",
      "source": [
        "### Download The Dataset"
      ],
      "metadata": {
        "id": "Trt-L_9pMQf1"
      }
    },
    {
      "cell_type": "code",
      "source": [
        "!wget -q https://s3.amazonaws.com/dev.assets.neo4j.com/wp-content/uploads/desktop-csv-import.zip"
      ],
      "metadata": {
        "id": "h4o07NpuJmaG"
      },
      "execution_count": null,
      "outputs": []
    },
    {
      "cell_type": "code",
      "source": [
        "!unzip desktop-csv-import.zip"
      ],
      "metadata": {
        "id": "nduIG7H_J0-A"
      },
      "execution_count": null,
      "outputs": []
    },
    {
      "cell_type": "markdown",
      "source": [
        "### Configure the Spark Environment"
      ],
      "metadata": {
        "id": "hXwkjQMnMXED"
      }
    },
    {
      "cell_type": "code",
      "source": [
        "neo4j_url = input('Neo4j URL: ')"
      ],
      "metadata": {
        "id": "yxk2frKmMb8i"
      },
      "execution_count": null,
      "outputs": []
    },
    {
      "cell_type": "code",
      "source": [
        "neo4j_user = input('Neo4j User: ')"
      ],
      "metadata": {
        "id": "uXbi_82KOTzU"
      },
      "execution_count": null,
      "outputs": []
    },
    {
      "cell_type": "code",
      "source": [
        "neo4j_password = input('Neo4j Password: ')"
      ],
      "metadata": {
        "id": "Sw50wjxxOUqt"
      },
      "execution_count": null,
      "outputs": []
    },
    {
      "cell_type": "code",
      "source": [
        "from pyspark.sql import SparkSession\n",
        "spark = (SparkSession.builder\n",
        "        .master('local[*]')\n",
        "        .appName('Leverage Neo4j with Apache Spark')\n",
        "        .config('spark.ui.port', '4050')\n",
        "        # Just to show dataframes as tables\n",
        "        .config('spark.sql.repl.eagerEval.enabled', True)\n",
        "        .config('spark.jars.packages', 'org.neo4j:neo4j-connector-apache-spark_2.12:4.1.2_for_spark_3')\n",
        "        # As we're using always the same database instance we'll\n",
        "        # define them as global variables\n",
        "        # so we don't need to repeat them each time\n",
        "        .config(\"neo4j.url\", neo4j_url)\n",
        "        .config(\"neo4j.authentication.type\", \"basic\")\n",
        "        .config(\"neo4j.authentication.basic.username\", neo4j_user)\n",
        "        .config(\"neo4j.authentication.basic.password\", neo4j_password)\n",
        "        .getOrCreate())"
      ],
      "metadata": {
        "id": "dOUJ-W871Tur"
      },
      "execution_count": null,
      "outputs": []
    },
    {
      "cell_type": "markdown",
      "source": [
        "## Explore the Dataset"
      ],
      "metadata": {
        "id": "w5kaTPoEQNkT"
      }
    },
    {
      "cell_type": "code",
      "source": [
        "df = (spark.read\n",
        "      .format('csv')\n",
        "      .option('inferSchema', True)\n",
        "      .option('path', '/content/desktop-csv-import/products.csv')\n",
        "      .load())"
      ],
      "metadata": {
        "id": "L0TZgi_E1gAv"
      },
      "execution_count": null,
      "outputs": []
    },
    {
      "cell_type": "code",
      "source": [
        "df.printSchema()"
      ],
      "metadata": {
        "id": "0tptDEUn2WO6"
      },
      "execution_count": null,
      "outputs": []
    },
    {
      "cell_type": "code",
      "source": [
        "df.show()"
      ],
      "metadata": {
        "id": "ZSW40PxjKvgf"
      },
      "execution_count": null,
      "outputs": []
    },
    {
      "cell_type": "code",
      "source": [
        "df = (df.withColumnRenamed('_c0', 'id')\n",
        "      .withColumnRenamed('_c1', 'name')\n",
        "      .withColumnRenamed('_c2', 'price'))"
      ],
      "metadata": {
        "id": "7xabRYlXQZl4"
      },
      "execution_count": null,
      "outputs": []
    },
    {
      "cell_type": "code",
      "source": [
        "df.printSchema()"
      ],
      "metadata": {
        "id": "w08HTcIeQuNn"
      },
      "execution_count": null,
      "outputs": []
    },
    {
      "cell_type": "code",
      "source": [
        "df"
      ],
      "metadata": {
        "id": "XCkyYIyzQv0X"
      },
      "execution_count": null,
      "outputs": []
    },
    {
      "cell_type": "code",
      "source": [
        ""
      ],
      "metadata": {
        "id": "Oy4eoeAMRWxc"
      },
      "execution_count": null,
      "outputs": []
    }
  ]
}